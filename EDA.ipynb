{
 "cells": [
  {
   "cell_type": "markdown",
   "id": "4fb5e2c6",
   "metadata": {},
   "source": [
    "Última atualização: 14/02 - Giovanna"
   ]
  },
  {
   "cell_type": "markdown",
   "id": "293ad6a4",
   "metadata": {},
   "source": [
    "# Importes e bibliotecas"
   ]
  },
  {
   "cell_type": "code",
   "execution_count": 19,
   "id": "20518f06",
   "metadata": {},
   "outputs": [
    {
     "name": "stderr",
     "output_type": "stream",
     "text": [
      "/tmp/ipykernel_101365/4152626631.py:3: DeprecationWarning: `import pandas_profiling` is going to be deprecated by April 1st. Please use `import ydata_profiling` instead.\n",
      "  import pandas_profiling\n"
     ]
    }
   ],
   "source": [
    "import pandas as pd\n",
    "import numpy as np\n",
    "import pandas_profiling\n",
    "from pandas_profiling import ProfileReport"
   ]
  },
  {
   "cell_type": "markdown",
   "id": "4d716673",
   "metadata": {},
   "source": [
    "# Análise Exploratória"
   ]
  },
  {
   "cell_type": "code",
   "execution_count": 5,
   "id": "c2392816",
   "metadata": {},
   "outputs": [],
   "source": [
    "df = pd.read_excel('./quarto-trimestre-2022.xlsx')"
   ]
  },
  {
   "cell_type": "code",
   "execution_count": 7,
   "id": "c0a11aea",
   "metadata": {},
   "outputs": [
    {
     "data": {
      "text/html": [
       "<div>\n",
       "<style scoped>\n",
       "    .dataframe tbody tr th:only-of-type {\n",
       "        vertical-align: middle;\n",
       "    }\n",
       "\n",
       "    .dataframe tbody tr th {\n",
       "        vertical-align: top;\n",
       "    }\n",
       "\n",
       "    .dataframe thead th {\n",
       "        text-align: right;\n",
       "    }\n",
       "</style>\n",
       "<table border=\"1\" class=\"dataframe\">\n",
       "  <thead>\n",
       "    <tr style=\"text-align: right;\">\n",
       "      <th></th>\n",
       "      <th>Número de Inscrição do CNPJ</th>\n",
       "      <th>Nome Fantasia</th>\n",
       "      <th>Tipo de Estabelecimento</th>\n",
       "      <th>Natureza Jurídica</th>\n",
       "      <th>Porte</th>\n",
       "      <th>Endereço Completo Receita Federal</th>\n",
       "      <th>UF</th>\n",
       "      <th>Município</th>\n",
       "      <th>Data de Abertura</th>\n",
       "      <th>CNAE(S) relacionados à atividade</th>\n",
       "      <th>...</th>\n",
       "      <th>Validade do Certificado</th>\n",
       "      <th>Categoria de Atuação</th>\n",
       "      <th>Atividades Obrigatórias</th>\n",
       "      <th>Atividades Opcionais</th>\n",
       "      <th>Segmentos Turísticos</th>\n",
       "      <th>Quantidade de Veículos</th>\n",
       "      <th>Quantidade de Embarcações</th>\n",
       "      <th>Embarcações Cruzeiro Marítimo</th>\n",
       "      <th>Embarcações Cruzeiro Fluvial/Barco-Hotel</th>\n",
       "      <th>Unnamed: 24</th>\n",
       "    </tr>\n",
       "  </thead>\n",
       "  <tbody>\n",
       "    <tr>\n",
       "      <th>0</th>\n",
       "      <td>25.384.979/0001-70</td>\n",
       "      <td>DOCERRADO</td>\n",
       "      <td>Matriz</td>\n",
       "      <td>Empresário Individual</td>\n",
       "      <td>MICROEMPRESA</td>\n",
       "      <td>SQN 404 Bloco L APT 202 Brasília Asa Norte CEP...</td>\n",
       "      <td>DF</td>\n",
       "      <td>Brasília</td>\n",
       "      <td>2016-08-05</td>\n",
       "      <td>5590602|7911200|7912100|5590699|5611201|561120...</td>\n",
       "      <td>...</td>\n",
       "      <td>2024-07-18 00:00:00</td>\n",
       "      <td>Agência de Viagens e Turismo (Operadoras Turís...</td>\n",
       "      <td>Assessoramento  planejamento e organização de ...</td>\n",
       "      <td>Assessoramento  organização e execução de ativ...</td>\n",
       "      <td>Ecoturismo|Turismo de Esporte|Turismo de Aventura</td>\n",
       "      <td>0</td>\n",
       "      <td>0</td>\n",
       "      <td>0</td>\n",
       "      <td>0</td>\n",
       "      <td>NaN</td>\n",
       "    </tr>\n",
       "    <tr>\n",
       "      <th>1</th>\n",
       "      <td>09.196.186/0001-70</td>\n",
       "      <td>OLK TURISMO</td>\n",
       "      <td>Matriz</td>\n",
       "      <td>Sociedade Empresária Limitada</td>\n",
       "      <td>MICROEMPRESA</td>\n",
       "      <td>Quadra 1 SALA  04 Brasília Setor Norte (Brazlâ...</td>\n",
       "      <td>DF</td>\n",
       "      <td>Brasília</td>\n",
       "      <td>2007-11-13</td>\n",
       "      <td>7911200|4929903|7990200</td>\n",
       "      <td>...</td>\n",
       "      <td>2023-08-04 00:00:00</td>\n",
       "      <td>Agência de Viagens</td>\n",
       "      <td>Venda comissionada ou intermediação remunerada...</td>\n",
       "      <td>Assessoramento  organização e execução de ativ...</td>\n",
       "      <td>Turismo de Saúde</td>\n",
       "      <td>0</td>\n",
       "      <td>0</td>\n",
       "      <td>0</td>\n",
       "      <td>0</td>\n",
       "      <td>NaN</td>\n",
       "    </tr>\n",
       "    <tr>\n",
       "      <th>2</th>\n",
       "      <td>72.590.763/0001-40</td>\n",
       "      <td>MATURIDADE VIP SERVICE</td>\n",
       "      <td>Matriz</td>\n",
       "      <td>Sociedade Empresária Limitada</td>\n",
       "      <td>MICROEMPRESA</td>\n",
       "      <td>de Mansões IAPI  Brasília Guará II CEP: 710703...</td>\n",
       "      <td>DF</td>\n",
       "      <td>Brasília</td>\n",
       "      <td>1994-05-30</td>\n",
       "      <td>7911200|8230001|8230001|7990200|9001999</td>\n",
       "      <td>...</td>\n",
       "      <td>2024-11-21 00:00:00</td>\n",
       "      <td>Agência de Viagens</td>\n",
       "      <td>Venda comissionada ou intermediação remunerada...</td>\n",
       "      <td>Desembaraço de bagagens  nas viagens e excursõ...</td>\n",
       "      <td>Turismo Cultural|Turismo de Negócios e Eventos...</td>\n",
       "      <td>0</td>\n",
       "      <td>0</td>\n",
       "      <td>0</td>\n",
       "      <td>0</td>\n",
       "      <td>NaN</td>\n",
       "    </tr>\n",
       "    <tr>\n",
       "      <th>3</th>\n",
       "      <td>33.453.408/0001-78</td>\n",
       "      <td>OBJETIVO TURISMO</td>\n",
       "      <td>Matriz</td>\n",
       "      <td>Sociedade Empresária Limitada</td>\n",
       "      <td>MICROEMPRESA</td>\n",
       "      <td>Brasília</td>\n",
       "      <td>DF</td>\n",
       "      <td>Brasília</td>\n",
       "      <td>1989-08-16</td>\n",
       "      <td>7911200</td>\n",
       "      <td>...</td>\n",
       "      <td>2024-10-24 00:00:00</td>\n",
       "      <td>Agência de Viagens</td>\n",
       "      <td>Venda comissionada ou intermediação remunerada...</td>\n",
       "      <td>Assessoramento  organização e execução de ativ...</td>\n",
       "      <td>Turismo Cultural|Turismo de Negócios e Eventos...</td>\n",
       "      <td>0</td>\n",
       "      <td>0</td>\n",
       "      <td>0</td>\n",
       "      <td>0</td>\n",
       "      <td>NaN</td>\n",
       "    </tr>\n",
       "    <tr>\n",
       "      <th>4</th>\n",
       "      <td>05.400.829/0001-03</td>\n",
       "      <td>TRIPPER AGÊNCIA DE VIAGENS                    ...</td>\n",
       "      <td>Matriz</td>\n",
       "      <td>Sociedade Empresária Limitada</td>\n",
       "      <td>MICROEMPRESA</td>\n",
       "      <td>SAUS Quadra 3 SALA 416 Brasília Asa Sul CEP: 7...</td>\n",
       "      <td>DF</td>\n",
       "      <td>Brasília</td>\n",
       "      <td>2002-11-13</td>\n",
       "      <td>7911200|7990200</td>\n",
       "      <td>...</td>\n",
       "      <td>2023-12-13 00:00:00</td>\n",
       "      <td>Agência de Viagens</td>\n",
       "      <td>Venda comissionada ou intermediação remunerada...</td>\n",
       "      <td>Intermediação remunerada na reserva e contrata...</td>\n",
       "      <td>Turismo Cultural|Turismo de Negócios e Eventos...</td>\n",
       "      <td>0</td>\n",
       "      <td>0</td>\n",
       "      <td>0</td>\n",
       "      <td>0</td>\n",
       "      <td>NaN</td>\n",
       "    </tr>\n",
       "  </tbody>\n",
       "</table>\n",
       "<p>5 rows × 25 columns</p>\n",
       "</div>"
      ],
      "text/plain": [
       "  Número de Inscrição do CNPJ  \\\n",
       "0          25.384.979/0001-70   \n",
       "1          09.196.186/0001-70   \n",
       "2          72.590.763/0001-40   \n",
       "3          33.453.408/0001-78   \n",
       "4          05.400.829/0001-03   \n",
       "\n",
       "                                       Nome Fantasia Tipo de Estabelecimento  \\\n",
       "0                                          DOCERRADO                  Matriz   \n",
       "1                                        OLK TURISMO                  Matriz   \n",
       "2                             MATURIDADE VIP SERVICE                  Matriz   \n",
       "3                                   OBJETIVO TURISMO                  Matriz   \n",
       "4  TRIPPER AGÊNCIA DE VIAGENS                    ...                  Matriz   \n",
       "\n",
       "               Natureza Jurídica         Porte  \\\n",
       "0          Empresário Individual  MICROEMPRESA   \n",
       "1  Sociedade Empresária Limitada  MICROEMPRESA   \n",
       "2  Sociedade Empresária Limitada  MICROEMPRESA   \n",
       "3  Sociedade Empresária Limitada  MICROEMPRESA   \n",
       "4  Sociedade Empresária Limitada  MICROEMPRESA   \n",
       "\n",
       "                   Endereço Completo Receita Federal  UF Município  \\\n",
       "0  SQN 404 Bloco L APT 202 Brasília Asa Norte CEP...  DF  Brasília   \n",
       "1  Quadra 1 SALA  04 Brasília Setor Norte (Brazlâ...  DF  Brasília   \n",
       "2  de Mansões IAPI  Brasília Guará II CEP: 710703...  DF  Brasília   \n",
       "3                                         Brasília    DF  Brasília   \n",
       "4  SAUS Quadra 3 SALA 416 Brasília Asa Sul CEP: 7...  DF  Brasília   \n",
       "\n",
       "  Data de Abertura                   CNAE(S) relacionados à atividade  ...  \\\n",
       "0       2016-08-05  5590602|7911200|7912100|5590699|5611201|561120...  ...   \n",
       "1       2007-11-13                            7911200|4929903|7990200  ...   \n",
       "2       1994-05-30            7911200|8230001|8230001|7990200|9001999  ...   \n",
       "3       1989-08-16                                            7911200  ...   \n",
       "4       2002-11-13                                    7911200|7990200  ...   \n",
       "\n",
       "  Validade do Certificado                               Categoria de Atuação  \\\n",
       "0     2024-07-18 00:00:00  Agência de Viagens e Turismo (Operadoras Turís...   \n",
       "1     2023-08-04 00:00:00                                 Agência de Viagens   \n",
       "2     2024-11-21 00:00:00                                 Agência de Viagens   \n",
       "3     2024-10-24 00:00:00                                 Agência de Viagens   \n",
       "4     2023-12-13 00:00:00                                 Agência de Viagens   \n",
       "\n",
       "                             Atividades Obrigatórias  \\\n",
       "0  Assessoramento  planejamento e organização de ...   \n",
       "1  Venda comissionada ou intermediação remunerada...   \n",
       "2  Venda comissionada ou intermediação remunerada...   \n",
       "3  Venda comissionada ou intermediação remunerada...   \n",
       "4  Venda comissionada ou intermediação remunerada...   \n",
       "\n",
       "                                Atividades Opcionais  \\\n",
       "0  Assessoramento  organização e execução de ativ...   \n",
       "1  Assessoramento  organização e execução de ativ...   \n",
       "2  Desembaraço de bagagens  nas viagens e excursõ...   \n",
       "3  Assessoramento  organização e execução de ativ...   \n",
       "4  Intermediação remunerada na reserva e contrata...   \n",
       "\n",
       "                                Segmentos Turísticos Quantidade de Veículos  \\\n",
       "0  Ecoturismo|Turismo de Esporte|Turismo de Aventura                      0   \n",
       "1                                   Turismo de Saúde                      0   \n",
       "2  Turismo Cultural|Turismo de Negócios e Eventos...                      0   \n",
       "3  Turismo Cultural|Turismo de Negócios e Eventos...                      0   \n",
       "4  Turismo Cultural|Turismo de Negócios e Eventos...                      0   \n",
       "\n",
       "  Quantidade de Embarcações Embarcações Cruzeiro Marítimo  \\\n",
       "0                         0                             0   \n",
       "1                         0                             0   \n",
       "2                         0                             0   \n",
       "3                         0                             0   \n",
       "4                         0                             0   \n",
       "\n",
       "  Embarcações Cruzeiro Fluvial/Barco-Hotel Unnamed: 24  \n",
       "0                                        0         NaN  \n",
       "1                                        0         NaN  \n",
       "2                                        0         NaN  \n",
       "3                                        0         NaN  \n",
       "4                                        0         NaN  \n",
       "\n",
       "[5 rows x 25 columns]"
      ]
     },
     "execution_count": 7,
     "metadata": {},
     "output_type": "execute_result"
    }
   ],
   "source": [
    "df.head()"
   ]
  },
  {
   "cell_type": "markdown",
   "id": "86b36cc4",
   "metadata": {},
   "source": [
    "Quais as colunas?"
   ]
  },
  {
   "cell_type": "code",
   "execution_count": 10,
   "id": "7f2b5782",
   "metadata": {
    "collapsed": true
   },
   "outputs": [
    {
     "data": {
      "text/plain": [
       "Index(['Número de Inscrição do CNPJ', 'Nome Fantasia',\n",
       "       'Tipo de Estabelecimento', 'Natureza Jurídica', 'Porte',\n",
       "       'Endereço Completo Receita Federal', 'UF', 'Município',\n",
       "       'Data de Abertura', 'CNAE(S) relacionados à atividade',\n",
       "       'Possui Empregado?', 'Telefone Comercial', 'E-mail Comercial',\n",
       "       'Website', 'Número do Certificado', 'Validade do Certificado',\n",
       "       'Categoria de Atuação', 'Atividades Obrigatórias',\n",
       "       'Atividades Opcionais', 'Segmentos Turísticos',\n",
       "       'Quantidade de Veículos', 'Quantidade de Embarcações',\n",
       "       'Embarcações Cruzeiro Marítimo',\n",
       "       'Embarcações Cruzeiro Fluvial/Barco-Hotel', 'Unnamed: 24'],\n",
       "      dtype='object')"
      ]
     },
     "execution_count": 10,
     "metadata": {},
     "output_type": "execute_result"
    }
   ],
   "source": [
    "df.columns"
   ]
  },
  {
   "cell_type": "markdown",
   "id": "baef5aee",
   "metadata": {},
   "source": [
    "Quantas linhas?"
   ]
  },
  {
   "cell_type": "code",
   "execution_count": 8,
   "id": "4aeacf66",
   "metadata": {},
   "outputs": [
    {
     "data": {
      "text/plain": [
       "RangeIndex(start=0, stop=33986, step=1)"
      ]
     },
     "execution_count": 8,
     "metadata": {},
     "output_type": "execute_result"
    }
   ],
   "source": [
    "df.index"
   ]
  },
  {
   "cell_type": "markdown",
   "id": "a4d97e1a",
   "metadata": {},
   "source": [
    "Quantos de cada estado?"
   ]
  },
  {
   "cell_type": "code",
   "execution_count": 9,
   "id": "b996bfbc",
   "metadata": {},
   "outputs": [
    {
     "data": {
      "text/plain": [
       "SP    9785\n",
       "RJ    4007\n",
       "MG    2784\n",
       "RS    2126\n",
       "PR    1904\n",
       "SC    1473\n",
       "BA    1375\n",
       "PE    1188\n",
       "GO    1180\n",
       "CE     967\n",
       "DF     870\n",
       "AL     760\n",
       "AM     613\n",
       "MA     601\n",
       "ES     581\n",
       "PB     569\n",
       "PA     512\n",
       "MS     474\n",
       "RN     438\n",
       "MT     437\n",
       "SE     313\n",
       "TO     268\n",
       "RO     227\n",
       "PI     205\n",
       "AC     131\n",
       "RR     109\n",
       "AP      89\n",
       "Name: UF, dtype: int64"
      ]
     },
     "execution_count": 9,
     "metadata": {},
     "output_type": "execute_result"
    }
   ],
   "source": [
    "df['UF'].value_counts()"
   ]
  },
  {
   "cell_type": "markdown",
   "id": "f7c3c30a",
   "metadata": {},
   "source": [
    "Qual a natureza jurídica da maioria?"
   ]
  },
  {
   "cell_type": "code",
   "execution_count": 11,
   "id": "a9cf793e",
   "metadata": {},
   "outputs": [
    {
     "data": {
      "text/plain": [
       "Empresário Individual                                                       17158\n",
       "Sociedade Empresária Limitada                                               11222\n",
       "Empresário (Individual)                                                      2905\n",
       "Empresa Individual de Responsabilidade Limitada (de Natureza Empresária)     2225\n",
       "Serviço Social Autônomo                                                       193\n",
       "Sociedade Simples Limitada                                                    131\n",
       "Sociedade Anônima Fechada                                                      61\n",
       "Cooperativa                                                                    31\n",
       "Empresa Individual de Responsabilidade Limitada (de Natureza Simples)          28\n",
       "Sociedade Anônima Aberta                                                       25\n",
       "Sociedade Simples Pura                                                          6\n",
       "Estabelecimento, no Brasil, de Sociedade Estrangeira                            1\n",
       "Name: Natureza Jurídica, dtype: int64"
      ]
     },
     "execution_count": 11,
     "metadata": {},
     "output_type": "execute_result"
    }
   ],
   "source": [
    "df['Natureza Jurídica'].value_counts()"
   ]
  },
  {
   "cell_type": "markdown",
   "id": "03636e2f",
   "metadata": {},
   "source": [
    "Qual a categoria de atuação da maioria?"
   ]
  },
  {
   "cell_type": "code",
   "execution_count": 14,
   "id": "680e9062",
   "metadata": {},
   "outputs": [
    {
     "data": {
      "text/plain": [
       "Agência de Viagens                                      24389\n",
       "Agência de Viagens e Turismo (Operadoras Turísticas)     9596\n",
       "673.580.128-87                                              1\n",
       "Name: Categoria de Atuação, dtype: int64"
      ]
     },
     "execution_count": 14,
     "metadata": {},
     "output_type": "execute_result"
    }
   ],
   "source": [
    "df['Categoria de Atuação'].value_counts()"
   ]
  },
  {
   "cell_type": "markdown",
   "id": "88ab1f7c",
   "metadata": {},
   "source": [
    "Professor ensinou um jeito mais fácil... basta abrir o html abaixo:"
   ]
  },
  {
   "cell_type": "code",
   "execution_count": 20,
   "id": "59b0cc41",
   "metadata": {},
   "outputs": [
    {
     "data": {
      "application/vnd.jupyter.widget-view+json": {
       "model_id": "b3822cd4604642ff8c7ad02decb79f79",
       "version_major": 2,
       "version_minor": 0
      },
      "text/plain": [
       "Summarize dataset:   0%|          | 0/5 [00:00<?, ?it/s]"
      ]
     },
     "metadata": {},
     "output_type": "display_data"
    },
    {
     "data": {
      "application/vnd.jupyter.widget-view+json": {
       "model_id": "a777fa2636ad4ac6ad885dc6acc676dd",
       "version_major": 2,
       "version_minor": 0
      },
      "text/plain": [
       "Generate report structure:   0%|          | 0/1 [00:00<?, ?it/s]"
      ]
     },
     "metadata": {},
     "output_type": "display_data"
    },
    {
     "data": {
      "application/vnd.jupyter.widget-view+json": {
       "model_id": "da2a73f3c88247a79190c33976ab5cbb",
       "version_major": 2,
       "version_minor": 0
      },
      "text/plain": [
       "Render HTML:   0%|          | 0/1 [00:00<?, ?it/s]"
      ]
     },
     "metadata": {},
     "output_type": "display_data"
    },
    {
     "data": {
      "application/vnd.jupyter.widget-view+json": {
       "model_id": "3758b71400ff468490e63e40b47bb7f4",
       "version_major": 2,
       "version_minor": 0
      },
      "text/plain": [
       "Export report to file:   0%|          | 0/1 [00:00<?, ?it/s]"
      ]
     },
     "metadata": {},
     "output_type": "display_data"
    }
   ],
   "source": [
    "design_report = ProfileReport(df)\n",
    "design_report.to_file(output_file='report.html')"
   ]
  }
 ],
 "metadata": {
  "kernelspec": {
   "display_name": "Python 3 (ipykernel)",
   "language": "python",
   "name": "python3"
  },
  "language_info": {
   "codemirror_mode": {
    "name": "ipython",
    "version": 3
   },
   "file_extension": ".py",
   "mimetype": "text/x-python",
   "name": "python",
   "nbconvert_exporter": "python",
   "pygments_lexer": "ipython3",
   "version": "3.9.7"
  }
 },
 "nbformat": 4,
 "nbformat_minor": 5
}
