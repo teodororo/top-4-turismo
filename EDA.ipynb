{
 "cells": [
  {
   "cell_type": "markdown",
   "id": "4fb5e2c6",
   "metadata": {
    "id": "4fb5e2c6"
   },
   "source": [
    "Últimas atualizações: \n",
    "*   14/02 - Giovanna\n",
    "*   19/02 - Victor Hugo\n",
    "*   27/02 - Afonso Garcia\n",
    "*   07/03 - Giovanna"
   ]
  },
  {
   "cell_type": "markdown",
   "id": "293ad6a4",
   "metadata": {
    "id": "293ad6a4"
   },
   "source": [
    "# Importes e bibliotecas"
   ]
  },
  {
   "cell_type": "code",
   "execution_count": 1,
   "id": "20518f06",
   "metadata": {
    "id": "20518f06"
   },
   "outputs": [
    {
     "name": "stderr",
     "output_type": "stream",
     "text": [
      "/tmp/ipykernel_30912/3724168254.py:7: DeprecationWarning: `import pandas_profiling` is going to be deprecated by April 1st. Please use `import ydata_profiling` instead.\n",
      "  from pandas_profiling import ProfileReport\n"
     ]
    }
   ],
   "source": [
    "import folium\n",
    "import math\n",
    "import matplotlib.pyplot as plt\n",
    "import numpy as np\n",
    "import pandas as pd\n",
    "\n",
    "from pandas_profiling import ProfileReport\n",
    "\n",
    "%matplotlib inline"
   ]
  },
  {
   "cell_type": "markdown",
   "id": "y1tohh34-z9G",
   "metadata": {
    "id": "y1tohh34-z9G"
   },
   "source": [
    "# Setup do ambiente"
   ]
  },
  {
   "cell_type": "code",
   "execution_count": 3,
   "id": "ukUKfdaA-3If",
   "metadata": {
    "id": "ukUKfdaA-3If"
   },
   "outputs": [],
   "source": [
    "lat_long_br_states = {\"AC\": [-8.77, -70.55], \"AL\": [-9.71, -35.73], \"AP\": [1.41, -51.77], \"AM\": [-3.07, -61.66], \"BA\": [-12.96, -38.51], \"CE\": [-3.71, -38.54], \"DF\": [-15.83, -47.86], \"ES\": [-19.19, -40.34], \"GO\": [-16.64, -49.31], \"MA\": [-2.55, -44.30], \"MT\": [-12.64, -55.42], \"MS\": [-20.51, -54.54], \"MG\": [-18.10, -44.38], \"PA\": [-5.53, -52.29], \"PB\": [-7.06, -35.55], \"PR\": [-24.89, -51.55], \"PE\": [-8.28, -35.07], \"PI\": [-8.28, -43.68], \"RJ\": [-22.84, -43.15], \"RN\": [-5.22, -36.52], \"RS\": [-30.01, -51.22], \"RO\": [-11.22, -62.80], \"RR\": [1.89, -61.22], \"SC\": [-27.33, -49.44], \"SP\": [-23.55, -46.64], \"SE\": [-10.90, -37.07], \"TO\": [-10.25, -48.25]}"
   ]
  },
  {
   "cell_type": "markdown",
   "id": "4d716673",
   "metadata": {
    "id": "4d716673"
   },
   "source": [
    "# Análise Exploratória"
   ]
  },
  {
   "cell_type": "code",
   "execution_count": 4,
   "id": "c2392816",
   "metadata": {
    "id": "c2392816"
   },
   "outputs": [],
   "source": [
    "df = pd.read_excel(\"./agencias-ano-2022.xlsx\") # dataset pesado, pode demorar para carregar"
   ]
  },
  {
   "cell_type": "code",
   "execution_count": 5,
   "id": "c0a11aea",
   "metadata": {
    "colab": {
     "base_uri": "https://localhost:8080/",
     "height": 786
    },
    "id": "c0a11aea",
    "outputId": "e607696a-c4b4-4deb-f5e6-aa0fa56b3874",
    "scrolled": true
   },
   "outputs": [
    {
     "data": {
      "text/html": [
       "<div>\n",
       "<style scoped>\n",
       "    .dataframe tbody tr th:only-of-type {\n",
       "        vertical-align: middle;\n",
       "    }\n",
       "\n",
       "    .dataframe tbody tr th {\n",
       "        vertical-align: top;\n",
       "    }\n",
       "\n",
       "    .dataframe thead th {\n",
       "        text-align: right;\n",
       "    }\n",
       "</style>\n",
       "<table border=\"1\" class=\"dataframe\">\n",
       "  <thead>\n",
       "    <tr style=\"text-align: right;\">\n",
       "      <th></th>\n",
       "      <th>Número de Inscrição do CNPJ</th>\n",
       "      <th>Nome Fantasia</th>\n",
       "      <th>Tipo de Estabelecimento</th>\n",
       "      <th>Natureza Jurídica</th>\n",
       "      <th>Porte</th>\n",
       "      <th>Endereço Completo Receita Federal</th>\n",
       "      <th>UF</th>\n",
       "      <th>Município</th>\n",
       "      <th>Data de Abertura</th>\n",
       "      <th>Telefone Comercial</th>\n",
       "      <th>...</th>\n",
       "      <th>Número do Certificado</th>\n",
       "      <th>Validade do Certificado</th>\n",
       "      <th>Categoria de Atuação</th>\n",
       "      <th>Atividades Obrigatórias</th>\n",
       "      <th>Atividades Opcionais</th>\n",
       "      <th>Segmentos Turísticos</th>\n",
       "      <th>Quantidade de Veículos</th>\n",
       "      <th>Quantidade de Embarcações</th>\n",
       "      <th>Embarcações Cruzeiro Marítimo</th>\n",
       "      <th>Embarcações Cruzeiro Fluvial/Barco-Hotel</th>\n",
       "    </tr>\n",
       "  </thead>\n",
       "  <tbody>\n",
       "    <tr>\n",
       "      <th>0</th>\n",
       "      <td>19.121.142/0001-35</td>\n",
       "      <td>AGUIATUR</td>\n",
       "      <td>Matriz</td>\n",
       "      <td>Empresário Individual</td>\n",
       "      <td>MICROEMPRESA</td>\n",
       "      <td>da Gameleira LOJA 05 Brasília Centro (São Seba...</td>\n",
       "      <td>DF</td>\n",
       "      <td>Brasília</td>\n",
       "      <td>2013-10-23</td>\n",
       "      <td>(61)3339-0398</td>\n",
       "      <td>...</td>\n",
       "      <td>19.121.142/0001-35</td>\n",
       "      <td>2023-07-06 00:00:00</td>\n",
       "      <td>Agência de Viagens</td>\n",
       "      <td>Venda comissionada ou intermediação remunerada...</td>\n",
       "      <td>-</td>\n",
       "      <td>Turismo de Saúde</td>\n",
       "      <td>0</td>\n",
       "      <td>0</td>\n",
       "      <td>0</td>\n",
       "      <td>0</td>\n",
       "    </tr>\n",
       "    <tr>\n",
       "      <th>1</th>\n",
       "      <td>01.597.335/0001-00</td>\n",
       "      <td>EXTRACLASSE TURISMO</td>\n",
       "      <td>Matriz</td>\n",
       "      <td>Sociedade Empresária Limitada</td>\n",
       "      <td>MICROEMPRESA</td>\n",
       "      <td>SCRN 708/709 Bloco A  Brasília Asa Norte CEP: ...</td>\n",
       "      <td>DF</td>\n",
       "      <td>Brasília</td>\n",
       "      <td>1985-12-10</td>\n",
       "      <td>(61)99244-8954</td>\n",
       "      <td>...</td>\n",
       "      <td>01.597.335/0001-00</td>\n",
       "      <td>2022-07-21 00:00:00</td>\n",
       "      <td>Agência de Viagens</td>\n",
       "      <td>Venda comissionada ou intermediação remunerada...</td>\n",
       "      <td>Assessoramento  organização e execução de ativ...</td>\n",
       "      <td>Turismo Cultural|Turismo de Estudo e Intercâmb...</td>\n",
       "      <td>2</td>\n",
       "      <td>0</td>\n",
       "      <td>0</td>\n",
       "      <td>0</td>\n",
       "    </tr>\n",
       "    <tr>\n",
       "      <th>2</th>\n",
       "      <td>18.558.986/0001-85</td>\n",
       "      <td>DIALOGAR VIAGENS</td>\n",
       "      <td>Matriz</td>\n",
       "      <td>Empresário Individual</td>\n",
       "      <td>MICROEMPRESA</td>\n",
       "      <td>QN 5 Conjunto 3 ANDAR  sala 101 Brasília Riach...</td>\n",
       "      <td>DF</td>\n",
       "      <td>Brasília</td>\n",
       "      <td>2013-07-25</td>\n",
       "      <td>(61)3208-3096</td>\n",
       "      <td>...</td>\n",
       "      <td>18.558.986/0001-85</td>\n",
       "      <td>2023-11-12 00:00:00</td>\n",
       "      <td>Agência de Viagens</td>\n",
       "      <td>Venda comissionada ou intermediação remunerada...</td>\n",
       "      <td>Intermediação remunerada na reserva e contrata...</td>\n",
       "      <td>Turismo de Estudo e Intercâmbio|Turismo de Neg...</td>\n",
       "      <td>0</td>\n",
       "      <td>0</td>\n",
       "      <td>0</td>\n",
       "      <td>0</td>\n",
       "    </tr>\n",
       "    <tr>\n",
       "      <th>3</th>\n",
       "      <td>19.272.029/0001-50</td>\n",
       "      <td>EBANO TURISMO E EVENTOS</td>\n",
       "      <td>Matriz</td>\n",
       "      <td>Empresário Individual</td>\n",
       "      <td>MICROEMPRESA</td>\n",
       "      <td>QC 15 Rua L COND Ipes Brasília Jardins Manguei...</td>\n",
       "      <td>DF</td>\n",
       "      <td>Brasília</td>\n",
       "      <td>2013-11-19</td>\n",
       "      <td>(61)99688-5717</td>\n",
       "      <td>...</td>\n",
       "      <td>19.272.029/0001-50</td>\n",
       "      <td>2023-12-15 00:00:00</td>\n",
       "      <td>Agência de Viagens</td>\n",
       "      <td>Venda comissionada ou intermediação remunerada...</td>\n",
       "      <td>Intermediação remunerada na reserva e contrata...</td>\n",
       "      <td>Ecoturismo|Turismo de Negócios e Eventos|Turis...</td>\n",
       "      <td>0</td>\n",
       "      <td>0</td>\n",
       "      <td>0</td>\n",
       "      <td>0</td>\n",
       "    </tr>\n",
       "    <tr>\n",
       "      <th>4</th>\n",
       "      <td>23.335.170/0001-22</td>\n",
       "      <td>BB VITOR LOCACAO E TURISMO</td>\n",
       "      <td>Matriz</td>\n",
       "      <td>Empresário (Individual)</td>\n",
       "      <td>MICROEMPRESA</td>\n",
       "      <td>SMPW Quadra 3 CASA Brasília Park Way CEP: 7173...</td>\n",
       "      <td>DF</td>\n",
       "      <td>Brasília</td>\n",
       "      <td>2015-09-23</td>\n",
       "      <td>(61)3386-0243</td>\n",
       "      <td>...</td>\n",
       "      <td>23.335.170/0001-22</td>\n",
       "      <td>2022-07-19 00:00:00</td>\n",
       "      <td>Agência de Viagens e Turismo (Operadoras Turís...</td>\n",
       "      <td>Assessoramento  planejamento e organização de ...</td>\n",
       "      <td>Assessoramento  organização e execução de ativ...</td>\n",
       "      <td>Turismo de Aventura|Turismo Cultural|Turismo d...</td>\n",
       "      <td>2</td>\n",
       "      <td>0</td>\n",
       "      <td>0</td>\n",
       "      <td>0</td>\n",
       "    </tr>\n",
       "  </tbody>\n",
       "</table>\n",
       "<p>5 rows × 22 columns</p>\n",
       "</div>"
      ],
      "text/plain": [
       "  Número de Inscrição do CNPJ               Nome Fantasia  \\\n",
       "0          19.121.142/0001-35                    AGUIATUR   \n",
       "1          01.597.335/0001-00         EXTRACLASSE TURISMO   \n",
       "2          18.558.986/0001-85            DIALOGAR VIAGENS   \n",
       "3          19.272.029/0001-50     EBANO TURISMO E EVENTOS   \n",
       "4          23.335.170/0001-22  BB VITOR LOCACAO E TURISMO   \n",
       "\n",
       "  Tipo de Estabelecimento              Natureza Jurídica         Porte  \\\n",
       "0                  Matriz          Empresário Individual  MICROEMPRESA   \n",
       "1                  Matriz  Sociedade Empresária Limitada  MICROEMPRESA   \n",
       "2                  Matriz          Empresário Individual  MICROEMPRESA   \n",
       "3                  Matriz          Empresário Individual  MICROEMPRESA   \n",
       "4                  Matriz        Empresário (Individual)  MICROEMPRESA   \n",
       "\n",
       "                   Endereço Completo Receita Federal  UF Município  \\\n",
       "0  da Gameleira LOJA 05 Brasília Centro (São Seba...  DF  Brasília   \n",
       "1  SCRN 708/709 Bloco A  Brasília Asa Norte CEP: ...  DF  Brasília   \n",
       "2  QN 5 Conjunto 3 ANDAR  sala 101 Brasília Riach...  DF  Brasília   \n",
       "3  QC 15 Rua L COND Ipes Brasília Jardins Manguei...  DF  Brasília   \n",
       "4  SMPW Quadra 3 CASA Brasília Park Way CEP: 7173...  DF  Brasília   \n",
       "\n",
       "  Data de Abertura Telefone Comercial  ... Número do Certificado  \\\n",
       "0       2013-10-23      (61)3339-0398  ...    19.121.142/0001-35   \n",
       "1       1985-12-10     (61)99244-8954  ...    01.597.335/0001-00   \n",
       "2       2013-07-25      (61)3208-3096  ...    18.558.986/0001-85   \n",
       "3       2013-11-19     (61)99688-5717  ...    19.272.029/0001-50   \n",
       "4       2015-09-23      (61)3386-0243  ...    23.335.170/0001-22   \n",
       "\n",
       "  Validade do Certificado                               Categoria de Atuação  \\\n",
       "0     2023-07-06 00:00:00                                 Agência de Viagens   \n",
       "1     2022-07-21 00:00:00                                 Agência de Viagens   \n",
       "2     2023-11-12 00:00:00                                 Agência de Viagens   \n",
       "3     2023-12-15 00:00:00                                 Agência de Viagens   \n",
       "4     2022-07-19 00:00:00  Agência de Viagens e Turismo (Operadoras Turís...   \n",
       "\n",
       "                             Atividades Obrigatórias  \\\n",
       "0  Venda comissionada ou intermediação remunerada...   \n",
       "1  Venda comissionada ou intermediação remunerada...   \n",
       "2  Venda comissionada ou intermediação remunerada...   \n",
       "3  Venda comissionada ou intermediação remunerada...   \n",
       "4  Assessoramento  planejamento e organização de ...   \n",
       "\n",
       "                                Atividades Opcionais  \\\n",
       "0                                                  -   \n",
       "1  Assessoramento  organização e execução de ativ...   \n",
       "2  Intermediação remunerada na reserva e contrata...   \n",
       "3  Intermediação remunerada na reserva e contrata...   \n",
       "4  Assessoramento  organização e execução de ativ...   \n",
       "\n",
       "                                Segmentos Turísticos Quantidade de Veículos  \\\n",
       "0                                   Turismo de Saúde                      0   \n",
       "1  Turismo Cultural|Turismo de Estudo e Intercâmb...                      2   \n",
       "2  Turismo de Estudo e Intercâmbio|Turismo de Neg...                      0   \n",
       "3  Ecoturismo|Turismo de Negócios e Eventos|Turis...                      0   \n",
       "4  Turismo de Aventura|Turismo Cultural|Turismo d...                      2   \n",
       "\n",
       "  Quantidade de Embarcações Embarcações Cruzeiro Marítimo  \\\n",
       "0                         0                             0   \n",
       "1                         0                             0   \n",
       "2                         0                             0   \n",
       "3                         0                             0   \n",
       "4                         0                             0   \n",
       "\n",
       "   Embarcações Cruzeiro Fluvial/Barco-Hotel  \n",
       "0                                         0  \n",
       "1                                         0  \n",
       "2                                         0  \n",
       "3                                         0  \n",
       "4                                         0  \n",
       "\n",
       "[5 rows x 22 columns]"
      ]
     },
     "execution_count": 5,
     "metadata": {},
     "output_type": "execute_result"
    }
   ],
   "source": [
    "df.head()"
   ]
  },
  {
   "cell_type": "markdown",
   "id": "86b36cc4",
   "metadata": {
    "id": "86b36cc4"
   },
   "source": [
    "Quais as colunas?"
   ]
  },
  {
   "cell_type": "code",
   "execution_count": 6,
   "id": "7f2b5782",
   "metadata": {
    "colab": {
     "base_uri": "https://localhost:8080/"
    },
    "id": "7f2b5782",
    "outputId": "90df1b3d-9861-4024-a520-10b0fc685016"
   },
   "outputs": [
    {
     "data": {
      "text/plain": [
       "Index(['Número de Inscrição do CNPJ', 'Nome Fantasia',\n",
       "       'Tipo de Estabelecimento', 'Natureza Jurídica', 'Porte',\n",
       "       'Endereço Completo Receita Federal', 'UF', 'Município',\n",
       "       'Data de Abertura', 'Telefone Comercial', 'E-mail Comercial', 'Website',\n",
       "       'Número do Certificado', 'Validade do Certificado',\n",
       "       'Categoria de Atuação', 'Atividades Obrigatórias',\n",
       "       'Atividades Opcionais', 'Segmentos Turísticos',\n",
       "       'Quantidade de Veículos', 'Quantidade de Embarcações',\n",
       "       'Embarcações Cruzeiro Marítimo',\n",
       "       'Embarcações Cruzeiro Fluvial/Barco-Hotel'],\n",
       "      dtype='object')"
      ]
     },
     "execution_count": 6,
     "metadata": {},
     "output_type": "execute_result"
    }
   ],
   "source": [
    "df.columns"
   ]
  },
  {
   "cell_type": "markdown",
   "id": "baef5aee",
   "metadata": {
    "id": "baef5aee"
   },
   "source": [
    "Quantas linhas?"
   ]
  },
  {
   "cell_type": "code",
   "execution_count": 7,
   "id": "4aeacf66",
   "metadata": {
    "colab": {
     "base_uri": "https://localhost:8080/"
    },
    "id": "4aeacf66",
    "outputId": "6f62331c-6340-433d-df11-001195eee831"
   },
   "outputs": [
    {
     "data": {
      "text/plain": [
       "RangeIndex(start=0, stop=135776, step=1)"
      ]
     },
     "execution_count": 7,
     "metadata": {},
     "output_type": "execute_result"
    }
   ],
   "source": [
    "df.index"
   ]
  },
  {
   "cell_type": "markdown",
   "id": "a4d97e1a",
   "metadata": {
    "id": "a4d97e1a"
   },
   "source": [
    "Quantos de cada estado?"
   ]
  },
  {
   "cell_type": "code",
   "execution_count": 8,
   "id": "b996bfbc",
   "metadata": {
    "colab": {
     "base_uri": "https://localhost:8080/"
    },
    "id": "b996bfbc",
    "outputId": "3c791b6c-b24d-48d2-ae00-3dc1aecca03a"
   },
   "outputs": [
    {
     "data": {
      "text/plain": [
       "SP    38941\n",
       "RJ    17768\n",
       "MG    11185\n",
       "RS     8021\n",
       "PR     7290\n",
       "SC     5629\n",
       "BA     5350\n",
       "PE     4797\n",
       "GO     4472\n",
       "CE     3789\n",
       "DF     3557\n",
       "AL     2938\n",
       "AM     2483\n",
       "MA     2388\n",
       "PB     2295\n",
       "ES     2197\n",
       "PA     1986\n",
       "MS     1864\n",
       "RN     1724\n",
       "MT     1677\n",
       "SE     1319\n",
       "TO     1057\n",
       "RO      881\n",
       "PI      784\n",
       "AC      550\n",
       "RR      469\n",
       "AP      365\n",
       "Name: UF, dtype: int64"
      ]
     },
     "execution_count": 8,
     "metadata": {},
     "output_type": "execute_result"
    }
   ],
   "source": [
    "df[\"UF\"].value_counts()"
   ]
  },
  {
   "cell_type": "markdown",
   "id": "f7c3c30a",
   "metadata": {
    "id": "f7c3c30a"
   },
   "source": [
    "Qual a natureza jurídica da maioria?"
   ]
  },
  {
   "cell_type": "code",
   "execution_count": 9,
   "id": "a9cf793e",
   "metadata": {
    "colab": {
     "base_uri": "https://localhost:8080/"
    },
    "id": "a9cf793e",
    "outputId": "7ee7820c-7d95-4b1e-b2be-178a9040603a"
   },
   "outputs": [
    {
     "data": {
      "text/plain": [
       "Empresário Individual                                                       67394\n",
       "Sociedade Empresária Limitada                                               44350\n",
       "Empresário (Individual)                                                     11855\n",
       "Empresa Individual de Responsabilidade Limitada (de Natureza Empresária)    10105\n",
       "Serviço Social Autônomo                                                       765\n",
       "Sociedade Simples Limitada                                                    660\n",
       "Sociedade Anônima Fechada                                                     250\n",
       "Cooperativa                                                                   124\n",
       "Empresa Individual de Responsabilidade Limitada (de Natureza Simples)         124\n",
       "Sociedade Anônima Aberta                                                      110\n",
       "Sociedade Simples Pura                                                         36\n",
       "Estabelecimento, no Brasil, de Sociedade Estrangeira                            3\n",
       "Name: Natureza Jurídica, dtype: int64"
      ]
     },
     "execution_count": 9,
     "metadata": {},
     "output_type": "execute_result"
    }
   ],
   "source": [
    "df[\"Natureza Jurídica\"].value_counts()"
   ]
  },
  {
   "cell_type": "markdown",
   "id": "03636e2f",
   "metadata": {
    "id": "03636e2f"
   },
   "source": [
    "Qual a categoria de atuação da maioria?"
   ]
  },
  {
   "cell_type": "code",
   "execution_count": 10,
   "id": "680e9062",
   "metadata": {
    "colab": {
     "base_uri": "https://localhost:8080/"
    },
    "id": "680e9062",
    "outputId": "d0b2856f-6b32-449c-9b22-85f3feb36c2a"
   },
   "outputs": [
    {
     "data": {
      "text/plain": [
       "Agência de Viagens                                      97891\n",
       "Agência de Viagens e Turismo (Operadoras Turísticas)    37876\n",
       "-                                                           5\n",
       "673.580.128-87                                              4\n",
       "Name: Categoria de Atuação, dtype: int64"
      ]
     },
     "execution_count": 10,
     "metadata": {},
     "output_type": "execute_result"
    }
   ],
   "source": [
    "df[\"Categoria de Atuação\"].value_counts()"
   ]
  },
  {
   "cell_type": "markdown",
   "id": "88ab1f7c",
   "metadata": {
    "id": "88ab1f7c"
   },
   "source": [
    "Professor ensinou um jeito mais fácil... basta abrir o html abaixo:"
   ]
  },
  {
   "cell_type": "code",
   "execution_count": null,
   "id": "59b0cc41",
   "metadata": {
    "id": "59b0cc41"
   },
   "outputs": [
    {
     "data": {
      "application/vnd.jupyter.widget-view+json": {
       "model_id": "27383e8bac9b4b319e7f5cf6795865c5",
       "version_major": 2,
       "version_minor": 0
      },
      "text/plain": [
       "Summarize dataset:   0%|          | 0/5 [00:00<?, ?it/s]"
      ]
     },
     "metadata": {},
     "output_type": "display_data"
    },
    {
     "data": {
      "application/vnd.jupyter.widget-view+json": {
       "model_id": "fe37cbdbcfcc4e858481220c9fce25b8",
       "version_major": 2,
       "version_minor": 0
      },
      "text/plain": [
       "Generate report structure:   0%|          | 0/1 [00:00<?, ?it/s]"
      ]
     },
     "metadata": {},
     "output_type": "display_data"
    }
   ],
   "source": [
    "design_report = ProfileReport(df)\n",
    "design_report.to_file(output_file=\"report.html\")"
   ]
  },
  {
   "cell_type": "markdown",
   "id": "orymU-MS-U1c",
   "metadata": {
    "id": "orymU-MS-U1c"
   },
   "source": [
    "# Distribuição geográfica de empresas de turismo por estados brasileiros\n"
   ]
  },
  {
   "cell_type": "code",
   "execution_count": null,
   "id": "BsfywS0m_Y6z",
   "metadata": {
    "colab": {
     "base_uri": "https://localhost:8080/",
     "height": 915
    },
    "id": "BsfywS0m_Y6z",
    "outputId": "392ba723-90fb-46d1-f507-66553c288293",
    "scrolled": true
   },
   "outputs": [],
   "source": [
    "states_count = df[\"UF\"].value_counts()\n",
    "\n",
    "map = folium.Map(width=700, height=700, location=[-15.788497,-47.879873], zoom_start=4)\n",
    "\n",
    "for uf, count in states_count.items():\n",
    "    if uf in lat_long_br_states.keys():\n",
    "        folium.CircleMarker(location=lat_long_br_states[uf], radius=count/300, popup=f\"{uf}: {count} empresas de turismo\", fill=True, fill_opacity=0.7, color=\"#3186cc\").add_to(map)\n",
    "\n",
    "map"
   ]
  },
  {
   "cell_type": "markdown",
   "id": "DQ14gkp-2G6e",
   "metadata": {
    "id": "DQ14gkp-2G6e"
   },
   "source": [
    "# Quais segmentos turísticos são mais populares em estados brasileiros "
   ]
  },
  {
   "cell_type": "code",
   "execution_count": null,
   "id": "sAOb1rI7-U2F",
   "metadata": {
    "colab": {
     "base_uri": "https://localhost:8080/",
     "height": 915
    },
    "id": "sAOb1rI7-U2F",
    "outputId": "c507ab4f-3fe8-4997-e59a-61160cc69c0d",
    "scrolled": true
   },
   "outputs": [],
   "source": [
    "temp = df.copy()\n",
    "\n",
    "uf_segments = temp[[\"UF\", \"Segmentos Turísticos\"]]\n",
    "\n",
    "# global_total = uf_segments[\"UF\"].count()\n",
    "\n",
    "dummies = uf_segments[\"Segmentos Turísticos\"].str.get_dummies(sep=\"|\")\n",
    "uf_segments = pd.concat([uf_segments, dummies], axis=1)\n",
    "\n",
    "uf_segments = uf_segments.drop([\"Segmentos Turísticos\", \"-\"], axis=1)\n",
    "\n",
    "for column in uf_segments.columns:\n",
    "    if uf_segments[column][0] in [0, 1] and uf_segments[column].sum() <= 2:\n",
    "        uf_segments = uf_segments.drop(column, axis=1)\n",
    "\n",
    "grouped = uf_segments.groupby(\"UF\").sum()\n",
    "\n",
    "max_values = grouped.max(axis=1, numeric_only=True)\n",
    "min_values = grouped.min(axis=1, numeric_only=True)\n",
    "\n",
    "grouped = grouped.apply(lambda row: row.apply(lambda elem: -1 if elem != max_values[row.name] and elem != min_values[row.name] else elem), axis=1)\n",
    "\n",
    "total_dict = uf_segments[\"UF\"].value_counts().to_dict()\n",
    "\n",
    "map = folium.Map(width=700, height=700, location=[-15.788497,-47.879873], zoom_start=4)\n",
    "\n",
    "for state in grouped.index:\n",
    "    values = sorted(grouped.loc[state], reverse=True)\n",
    "\n",
    "    values_dict = grouped.loc[state].to_dict()\n",
    "    max_name = max(values_dict, key=values_dict.get)\n",
    "    \n",
    "    folium.CircleMarker(location=lat_long_br_states[state], radius=(values[0]/total_dict[state])*30, popup=f\"O segmento turístico mais popular no estado de {state} é {max_name} com {values[0]} empresas, de um total de {total_dict[state]} empresas\", fill=True, fill_opacity=0.7, color=\"#3186cc\").add_to(map)\n",
    "\n",
    "map"
   ]
  },
  {
   "cell_type": "markdown",
   "id": "fi-iJL2SXsYI",
   "metadata": {
    "id": "fi-iJL2SXsYI"
   },
   "source": [
    "# Quais segmentos turísticos são menos populares em estados brasileiros "
   ]
  },
  {
   "cell_type": "code",
   "execution_count": null,
   "id": "ISdnZxGjXwMP",
   "metadata": {
    "colab": {
     "base_uri": "https://localhost:8080/",
     "height": 915
    },
    "id": "ISdnZxGjXwMP",
    "outputId": "dabbb1f3-a25c-4046-d1af-d6da0b70d123"
   },
   "outputs": [],
   "source": [
    "temp = df.copy()\n",
    "\n",
    "uf_segments = temp[[\"UF\", \"Segmentos Turísticos\"]]\n",
    "\n",
    "dummies = uf_segments[\"Segmentos Turísticos\"].str.get_dummies(sep=\"|\")\n",
    "uf_segments = pd.concat([uf_segments, dummies], axis=1)\n",
    "\n",
    "uf_segments = uf_segments.drop([\"Segmentos Turísticos\", \"-\"], axis=1)\n",
    "\n",
    "for column in uf_segments.columns:\n",
    "    if uf_segments[column][0] in [0, 1] and uf_segments[column].sum() <= 2:\n",
    "        uf_segments = uf_segments.drop(column, axis=1)\n",
    "\n",
    "grouped = uf_segments.groupby(\"UF\").sum()\n",
    "\n",
    "max_values = grouped.max(axis=1, numeric_only=True)\n",
    "min_values = grouped.min(axis=1, numeric_only=True)\n",
    "\n",
    "grouped = grouped.apply(lambda row: row.apply(lambda elem: math.inf if elem != max_values[row.name] and elem != min_values[row.name] else elem), axis=1)\n",
    "\n",
    "total_dict = uf_segments[\"UF\"].value_counts().to_dict()\n",
    "\n",
    "map = folium.Map(width=700, height=700, location=[-15.788497,-47.879873], zoom_start=4)\n",
    "\n",
    "for state in grouped.index:\n",
    "    values = sorted(grouped.loc[state], reverse=False)\n",
    "\n",
    "    values_dict = grouped.loc[state].to_dict()\n",
    "    min_name = min(values_dict, key=values_dict.get)\n",
    "    \n",
    "    folium.CircleMarker(location=lat_long_br_states[state], radius=((values[0]+1)**-1)*25, popup=f\"O segmento turístico menos popular no estado de {state} é {min_name} com {int(values[0])} empresas, de um total de {total_dict[state]} empresas\", fill=True, fill_opacity=0.7, color=\"#3186cc\").add_to(map)\n",
    "\n",
    "map"
   ]
  },
  {
   "cell_type": "markdown",
   "id": "-hTbzp-nIFzy",
   "metadata": {
    "id": "-hTbzp-nIFzy"
   },
   "source": [
    "# Relação entre o porte da empresa e seu segmento turístico\n",
    "\n"
   ]
  },
  {
   "cell_type": "code",
   "execution_count": null,
   "id": "7RRVo-XSIMuT",
   "metadata": {
    "colab": {
     "base_uri": "https://localhost:8080/",
     "height": 729
    },
    "id": "7RRVo-XSIMuT",
    "outputId": "46382fb9-f313-474c-c47e-42b2773314c9"
   },
   "outputs": [],
   "source": [
    "size_and_segments = df.copy()\n",
    "\n",
    "size_and_segments = size_and_segments[[\"Porte\", \"Segmentos Turísticos\"]]\n",
    "\n",
    "dummies = size_and_segments[\"Segmentos Turísticos\"].str.get_dummies(sep=\"|\")\n",
    "size_and_segments = pd.concat([size_and_segments, dummies], axis=1)\n",
    "\n",
    "size_and_segments = size_and_segments.drop(\"Segmentos Turísticos\", axis=1)\n",
    "\n",
    "grouped = size_and_segments.groupby(\"Porte\").sum()\n",
    "\n",
    "grouped = grouped.copy()\n",
    "\n",
    "grouped = grouped.loc[:, grouped.columns[grouped.sum() != 1]]\n",
    "\n",
    "grouped = grouped.drop(\"-\", axis=1)\n",
    "\n",
    "grouped.head()\n",
    "\n",
    "colors = [\"#1f77b4\", \"#ff7f0e\", \"#2ca02c\", \"#d62728\", \"#9467bd\", \n",
    "          \"#8c564b\", \"#e377c2\", \"#7f7f7f\", \"#bcbd22\", \"#17becf\", \n",
    "          \"#adb0ff\", \"#ffadad\", \"#1a2b3c\"]\n",
    "\n",
    "segment_order = [\"Ecoturismo\", \"Turismo Cultural\", \"Turismo Náutico\", \"Turismo Rural\", \n",
    "                 \"Turismo Social\", \"Turismo de Aventura\", \"Turismo de Esporte\", \n",
    "                 \"Turismo de Estudo e Intercâmbio\", \"Turismo de Negócios e Eventos\", \n",
    "                 \"Turismo de Pesca\", \"Turismo de Saúde\", \"Turismo de Sol e Praia\",\n",
    "                 \"A Agência de Turismo não é especialista em nenhum dos segmentos turísticos antes citados\"]\n",
    "\n",
    "grouped_perc = grouped.div(grouped.sum(axis=1), axis=0)  \n",
    "grouped_perc = grouped_perc.reindex(columns=segment_order) \n",
    "\n",
    "grouped_perc = grouped_perc.sort_values(by=\"Porte\", ascending=False) \n",
    "\n",
    "fig, ax = plt.subplots(figsize=(16, 10))\n",
    "grouped_perc.plot(kind=\"bar\", stacked=True, ax=ax, color=colors)\n",
    "ax.set_xticklabels(grouped_perc.index, rotation=0)\n",
    "ax.set_xlabel(\"Porte das Empresas\")\n",
    "ax.set_ylabel(\"Proporção de Empresas\")\n",
    "ax.set_title(\"Segmentos Turísticos por Porte de Empresas\")\n",
    "\n",
    "handles = []\n",
    "for i, _ in enumerate(segment_order):\n",
    "    handles.append(plt.Rectangle((0,0),1,1,fc=colors[i], edgecolor=\"none\"))\n",
    "ax.legend(handles, segment_order, loc=\"upper left\", bbox_to_anchor=(1, 1))\n",
    "\n",
    "plt.tight_layout()\n",
    "plt.show()"
   ]
  },
  {
   "cell_type": "markdown",
   "id": "okG7bJU9jPku",
   "metadata": {
    "id": "okG7bJU9jPku"
   },
   "source": [
    "# Análise de frequência das atividades obrigatórias e opcionais por porte da empresa"
   ]
  },
  {
   "cell_type": "code",
   "execution_count": null,
   "id": "Uc7ISXURjWBe",
   "metadata": {
    "id": "Uc7ISXURjWBe"
   },
   "outputs": [],
   "source": [
    "# colors = [\"#1f77b4\", \"#ff7f0e\", \"#2ca02c\", \"#d62728\", \"#9467bd\", \n",
    "#           \"#8c564b\", \"#e377c2\", \"#7f7f7f\", \"#bcbd22\", \"#17becf\", \n",
    "#           \"#adb0ff\", \"#ffadad\", \"#1a2b3c\"]\n",
    "\n",
    "# freqs = df.copy()\n",
    "\n",
    "# freq_obrigatorias = freqs[\"Atividades Obrigatórias\"].str.split(\"|\")\n",
    "\n",
    "# dummies_obrigatorias = freqs[\"Atividades Obrigatórias\"].str.get_dummies(sep=\"|\")\n",
    "\n",
    "# freq_obrigatorias = pd.concat([freqs[\"Porte\"], dummies_obrigatorias], axis=1)\n",
    "\n",
    "# grouped_obrigatorias = freq_obrigatorias.groupby(\"Porte\").sum()\n",
    "\n",
    "# grouped_obrigatorias = grouped_obrigatorias.drop(\"Agência de Viagens\", axis=1)\n",
    "\n",
    "# grouped_perc_obrigatorias = grouped_obrigatorias.div(grouped_obrigatorias.sum(axis=1), axis=0)  \n",
    "# grouped_perc_obrigatorias = grouped_perc_obrigatorias.reindex(columns=grouped_obrigatorias.columns) \n",
    "# grouped_perc_obrigatorias = grouped_perc_obrigatorias.sort_values(by=\"Porte\", ascending=False) \n",
    "\n",
    "\n",
    "# fig, ax = plt.subplots(figsize=(30, 10))\n",
    "# grouped_perc_obrigatorias.plot(kind=\"bar\", stacked=True, ax=ax, color=colors)\n",
    "# ax.set_xticklabels(grouped_perc_obrigatorias.index, rotation=0)\n",
    "# ax.set_xlabel(\"Porte das Empresas\")\n",
    "# ax.set_ylabel(\"Proporção\")\n",
    "# ax.set_title(\"Frequência das atividades obrigatórias por porte da empresa\")\n",
    "\n",
    "# handles = []\n",
    "# for i, _ in enumerate(grouped_perc_obrigatorias.columns):\n",
    "#     handles.append(plt.Rectangle((0,0),1,1,fc=colors[i], edgecolor=\"none\"))\n",
    "# ax.legend(handles, grouped_perc_obrigatorias.columns, loc=\"upper left\", bbox_to_anchor=(1, 1))\n",
    "\n",
    "# plt.tight_layout()\n",
    "# plt.show()\n",
    "\n",
    "\n",
    "\n",
    "\n",
    "# freq_opcionais = freqs[\"Atividades Opcionais\"].str.split(\"|\")\n",
    "# dummies_opcionais = freqs[\"Atividades Opcionais\"].str.get_dummies(sep=\"|\")\n",
    "# freq_opcionais = pd.concat([freqs[\"Porte\"], dummies_opcionais], axis=1)\n",
    "\n",
    "# grouped_opcionais = freq_opcionais.groupby(\"Porte\").sum()\n",
    "\n",
    "# grouped_opcionais = grouped_opcionais.drop(\"-\", axis=1)\n",
    "\n",
    "# grouped_perc_opcionais = grouped_opcionais.div(grouped_opcionais.sum(axis=1), axis=0)  \n",
    "# grouped_perc_opcionais = grouped_perc_opcionais.reindex(columns=grouped_opcionais.columns) \n",
    "# grouped_perc_opcionais = grouped_perc_opcionais.sort_values(by=\"Porte\", ascending=False) \n",
    "\n",
    "\n",
    "\n",
    "# fig, ax = plt.subplots(figsize=(30, 10))\n",
    "# grouped_perc_opcionais.plot(kind=\"bar\", stacked=True, ax=ax, color=colors)\n",
    "# ax.set_xticklabels(grouped_perc_opcionais.index, rotation=0)\n",
    "# ax.set_xlabel(\"Porte das Empresas\")\n",
    "# ax.set_ylabel(\"Proporção\")\n",
    "# ax.set_title(\"Frequência das atividades opcionais por porte da empresa\")\n",
    "\n",
    "# handles = []\n",
    "# for i, _ in enumerate(grouped_perc_opcionais.columns):\n",
    "#     handles.append(plt.Rectangle((0,0),1,1,fc=colors[i], edgecolor=\"none\"))\n",
    "# ax.legend(handles, grouped_perc_opcionais.columns, loc=\"upper left\", bbox_to_anchor=(1, 1))\n",
    "\n",
    "# plt.tight_layout()\n",
    "# plt.show()"
   ]
  }
 ],
 "metadata": {
  "colab": {
   "provenance": []
  },
  "kernelspec": {
   "display_name": "Python 3 (ipykernel)",
   "language": "python",
   "name": "python3"
  },
  "language_info": {
   "codemirror_mode": {
    "name": "ipython",
    "version": 3
   },
   "file_extension": ".py",
   "mimetype": "text/x-python",
   "name": "python",
   "nbconvert_exporter": "python",
   "pygments_lexer": "ipython3",
   "version": "3.8.10"
  }
 },
 "nbformat": 4,
 "nbformat_minor": 5
}
